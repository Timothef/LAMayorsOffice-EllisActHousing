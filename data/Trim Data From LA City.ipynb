{
 "cells": [
  {
   "cell_type": "markdown",
   "metadata": {},
   "source": [
    "This notebook reads data that we've downloaded from the LA City website and puts it into a big file"
   ]
  },
  {
   "cell_type": "code",
   "execution_count": 1,
   "metadata": {},
   "outputs": [],
   "source": [
    "import os\n",
    "import pandas as pd\n",
    "\n",
    "DATA_DIR = '~/GitHub/la_mayors_office/data'"
   ]
  },
  {
   "cell_type": "code",
   "execution_count": 2,
   "metadata": {},
   "outputs": [],
   "source": [
    "def make_APN(df):\n",
    "    \"\"\" This function will add an APN column to a dataset\n",
    "    made by concatenting the partial APNs\n",
    "    \"\"\"\n",
    "    apn_cols = ['Assessor Book', 'Assessor Page', 'Assessor Parcel']\n",
    "    series_apn = df[apn_cols].astype(str).apply(lambda x: ''.join(x), axis=1)\n",
    "    return series_apn"
   ]
  },
  {
   "cell_type": "markdown",
   "metadata": {},
   "source": [
    "# Process certificate of occupancy\n",
    "\n",
    "Read it in, drop columns we don't care about and output a 'trimmed' version\n",
    "\n",
    "Notes:\n",
    "    PCIS = \"Plan Check and Inspection System\"\n",
    "    \"# of Residential Dwelling Units\" may for additions/remodeling may just measure the number of units affected"
   ]
  },
  {
   "cell_type": "code",
   "execution_count": 3,
   "metadata": {},
   "outputs": [],
   "source": [
    "fname_input = \"Building_and_Safety_Certificate_of_Occupancy.csv\"\n",
    "fname_output = \"Trimmed_Occupancy.csv\"\n",
    "\n",
    "location_columns = [\n",
    "    \"APN\",\n",
    "    \"Latitude/Longitude\",\n",
    "    \"Census Tract\"\n",
    "]\n",
    "\n",
    "address_columns = [\n",
    "    \"Address Start\",\n",
    "    \"Address Fraction Start\",\n",
    "    \"Address End\",\n",
    "    \"Address Fraction End\",\n",
    "    \"Street Direction\",\n",
    "    \"Street Name\",\n",
    "    \"Street Suffix\",\n",
    "    \"Suffix Direction\",\n",
    "    \"Unit Range Start\",\n",
    "    \"Unit Range End\",\n",
    "    \"Zip Code\"\n",
    "]\n",
    "\n",
    "permit_columns = [\n",
    "    \"Status\",\n",
    "    \"# of Residential Dwelling Units\",\n",
    "    \"PCIS Permit #\",\n",
    "    \"Permit Type\",\n",
    "    \"Permit Sub-Type\",\n",
    "    \"Permit Issue Date\",\n",
    "    \"Applicant First Name\",\n",
    "    \"Applicant Last Name\",\n",
    "    \"Applicant Business Name\",\n",
    "]\n",
    "\n",
    "extra_columns = [\n",
    "    \"Valuation\",\n",
    "    \"Work Description\",\n",
    "    \"Contractor's Business Name\",\n",
    "    \"# of Stories\"\n",
    "]\n",
    "\n",
    "df_CofO = pd.read_csv(os.path.join(DATA_DIR, fname_input), dtype=str)\n",
    "\n",
    "# Make APN\n",
    "df_CofO[\"APN\"] = make_APN(df_CofO)\n",
    "\n",
    "df_CofO_trimmed = df_CofO[location_columns + address_columns + permit_columns + extra_columns]\n",
    "\n",
    "df_CofO_trimmed.to_csv(\n",
    "    os.path.join(DATA_DIR, fname_output),\n",
    "    index=False\n",
    ")"
   ]
  },
  {
   "cell_type": "markdown",
   "metadata": {},
   "source": [
    "# Process demolition permits\n",
    "\n",
    "Read it in, drop columns we don't care about, drop rows that are not demolition permits, and output a 'trimmed' version\n",
    "\n",
    "Notes:\n"
   ]
  },
  {
   "cell_type": "code",
   "execution_count": 4,
   "metadata": {},
   "outputs": [],
   "source": [
    "location_columns = [\n",
    "    \"APN\",\n",
    "    \"Latitude/Longitude\",\n",
    "    \"Census Tract\"\n",
    "]\n",
    "\n",
    "address_columns = [\n",
    "    \"Address Start\",\n",
    "    \"Address Fraction Start\",\n",
    "    \"Address End\",\n",
    "    \"Address Fraction End\",\n",
    "    \"Street Direction\",\n",
    "    \"Street Name\",\n",
    "    \"Street Suffix\",\n",
    "    \"Suffix Direction\",\n",
    "    \"Unit Range Start\",\n",
    "    \"Unit Range End\",\n",
    "    \"Zip Code\"\n",
    "]\n",
    "\n",
    "permit_columns = [\n",
    "    \"Status\",\n",
    "    \"PCIS Permit #\",\n",
    "    \"Reference # (Old Permit #)\",\n",
    "    \"Permit Type\",\n",
    "    \"Permit Sub-Type\",\n",
    "    \"Permit Issue Date\",\n",
    "    \"Applicant First Name\",\n",
    "    \"Applicant Last Name\",\n",
    "    \"Applicant Business Name\",\n",
    "]\n",
    "\n",
    "extra_columns = [\n",
    "    \"Valuation\",\n",
    "    \"Work Description\",\n",
    "    \"Contractor's Business Name\",\n",
    "    \"Council District\",\n",
    "]\n",
    "\n",
    "\n",
    "fname_input = \"Building_and_Safety_Permit_Information.csv\"\n",
    "fname_output = \"Trimmed_Demolition.csv\"\n",
    "\n",
    "df_demolition = pd.read_csv(os.path.join(DATA_DIR, fname_input), dtype=str)\n",
    "\n",
    "# Make APN\n",
    "df_demolition[\"APN\"] = make_APN(df_demolition)\n",
    "\n",
    "rows_is_demolition = df_demolition['Permit Type'].isin(['Bldg-Demolition', 'NonBldg-Demolition'])\n",
    "\n",
    "df_demolition = df_demolition.loc[\n",
    "    rows_is_demolition,\n",
    "    location_columns + address_columns + permit_columns + extra_columns\n",
    "]\n",
    "\n",
    "df_demolition.to_csv(\n",
    "    os.path.join(DATA_DIR, fname_output),\n",
    "    index=False\n",
    ")"
   ]
  },
  {
   "cell_type": "markdown",
   "metadata": {},
   "source": [
    "# Process building permits\n",
    "\n",
    "Read it in, drop columns we don't care about, drop rows that are demolition permits, and output a 'trimmed' version\n",
    "\n",
    "Notes:\n"
   ]
  },
  {
   "cell_type": "code",
   "execution_count": 5,
   "metadata": {},
   "outputs": [],
   "source": [
    "fname_input = \"Building_and_Safety_Permit_Information.csv\"\n",
    "fname_output = \"Trimmed_Building.csv\"\n",
    "\n",
    "df_building = pd.read_csv(os.path.join(DATA_DIR, fname_input), dtype=str)\n",
    "\n",
    "# Make APN\n",
    "df_building[\"APN\"] = make_APN(df_building)\n",
    "\n",
    "rows_is_demolition = df_building['Permit Type'].isin(['Bldg-Demolition', 'NonBldg-Demolition'])\n",
    "\n",
    "df_building = df_building.loc[\n",
    "    ~rows_is_demolition,\n",
    "    location_columns + address_columns + permit_columns + extra_columns\n",
    "]\n",
    "\n",
    "df_building.to_csv(\n",
    "    os.path.join(DATA_DIR, fname_output),\n",
    "    index=False\n",
    ")"
   ]
  },
  {
   "cell_type": "markdown",
   "metadata": {},
   "source": [
    "# Concatenate into a huge file\n",
    "\n",
    "Read all the trimmed dataframes into a single mega-file"
   ]
  },
  {
   "cell_type": "code",
   "execution_count": 6,
   "metadata": {},
   "outputs": [],
   "source": [
    "fname_list = [\n",
    "    (\"Demolition Permit\", \"Trimmed_Demolition.csv\"),\n",
    "    (\"Building Permit\", \"Trimmed_Building.csv\"),\n",
    "    (\"Occupancy Inspection\", \"Trimmed_Occupancy.csv\")\n",
    "]\n",
    "\n",
    "fname_output = 'la_housing_dataset.csv'\n",
    "\n",
    "df_full = []\n",
    "for f in fname_list:\n",
    "    df = pd.read_csv(os.path.join(DATA_DIR, f[1]))\n",
    "    df[\"General Category\"] = f[0]\n",
    "    df_full.append(df)\n",
    "df_full = pd.concat(df_full, axis=0)"
   ]
  },
  {
   "cell_type": "code",
   "execution_count": 7,
   "metadata": {},
   "outputs": [],
   "source": [
    "df_full = df_full.sort_values([\"APN\", \"Permit Issue Date\"]).reset_index(drop=True)\n",
    "\n",
    "# Re-ordering columns to be easier to read\n",
    "new_order = location_columns + address_columns + [\"General Category\"] + permit_columns\n",
    "new_order += [c for c in df_full if c not in new_order]\n",
    "df_full = df_full[new_order]\n",
    "\n",
    "df_full.to_csv(\n",
    "    os.path.join(DATA_DIR, fname_output),\n",
    "    index=False\n",
    ")"
   ]
  }
 ],
 "metadata": {
  "kernelspec": {
   "display_name": "Python 3",
   "language": "python",
   "name": "python3"
  },
  "language_info": {
   "codemirror_mode": {
    "name": "ipython",
    "version": 3
   },
   "file_extension": ".py",
   "mimetype": "text/x-python",
   "name": "python",
   "nbconvert_exporter": "python",
   "pygments_lexer": "ipython3",
   "version": "3.5.1"
  }
 },
 "nbformat": 4,
 "nbformat_minor": 2
}
