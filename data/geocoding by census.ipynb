{
 "cells": [
  {
   "cell_type": "code",
   "execution_count": 7,
   "metadata": {},
   "outputs": [],
   "source": [
    "import os\n",
    "\n",
    "import pandas as pd\n",
    "import grequests\n",
    "\n",
    "def format_data_for_api(row_num, row_data):\n",
    "    #'city': 'Los Angeles',\n",
    "\n",
    "    data = {\n",
    "        'street': row_data.Address.strip(),\n",
    "        'state': 'CA',\n",
    "        'zip': row_data.Zip,\n",
    "        'format': 'json',\n",
    "        'benchmark': 'Public_AR_Current',\n",
    "        'row_num': row_num\n",
    "    }\n",
    "    return data\n",
    "\n",
    "def format_data_from_api(resp):\n",
    "    j_data = resp.json()\n",
    "    addy_data = j_data['result']['addressMatches'][0]\n",
    "    in_addy_data = j_data['result']['input']['address']\n",
    "    out_dict = {\n",
    "        'in_street': in_addy_data['street'],\n",
    "        'in_zip': in_addy_data['zip'],\n",
    "        'Address Start': addy_data['addressComponents']['fromAddress'],\n",
    "        'Address End': addy_data['addressComponents']['toAddress'],\n",
    "        'Street Direction': addy_data['addressComponents']['preDirection'],\n",
    "        'Street Name': addy_data['addressComponents']['streetName'],\n",
    "        'Street Suffix': addy_data['addressComponents']['suffixType'],\n",
    "        'Zip Code': addy_data['addressComponents']['zip'],\n",
    "        'Latitude/Longitude': (addy_data['coordinates']['y'], addy_data['coordinates']['x'])\n",
    "    }\n",
    "    return out_dict"
   ]
  },
  {
   "cell_type": "code",
   "execution_count": null,
   "metadata": {},
   "outputs": [],
   "source": [
    "# Load Ellis dataset\n",
    "DATA_DIR = '/Users/mcmenamin/GitHub/la_mayors_office/data'\n",
    "DATA_FILE = 'To Mayor - Ellis 7-16-2007 - 7-31-2017 Ran 8-18-2017.xlsx'\n",
    "\n",
    "OUT_FILE = 'ellis_geocoded.csv'\n",
    "\n",
    "df_ellis = pd.read_excel(os.path.join(DATA_DIR, DATA_FILE))\n",
    "df_ellis.Address = df_ellis.Address.str.strip()\n",
    "df_ellis.Zip = df_ellis.Zip.astype(str)\n",
    "\n",
    "# Set up async api calls\n",
    "\n",
    "API_URL = \"https://geocoding.geo.census.gov/geocoder/{returntype}/{searchtype}\"\n",
    "\n",
    "query_params = {\n",
    "    'returntype': 'locations',\n",
    "    'searchtype': 'address'\n",
    "}\n",
    "\n",
    "reqs = [grequests.get(API_URL.format(**query_params), params=format_data_for_api(row_num, row_data))\n",
    "        for row_num, row_data in df_ellis.iterrows()]\n",
    "resps = grequests.map(reqs)"
   ]
  },
  {
   "cell_type": "code",
   "execution_count": null,
   "metadata": {},
   "outputs": [],
   "source": [
    "df_from_api = pd.DataFrame([format_data_from_api(r) for r in resps])\n",
    "\n",
    "df_full = (\n",
    "    df_from_api.merge(df_ellis, left_on=['in_street', 'in_zip'], right_on=['Address', 'Zip']).\n",
    "    drop(['in_street', 'in_zip'], 1)\n",
    ")\n",
    "\n",
    "df_full.to_csv(os.path.join(DATA_DIR, OUT_FILE), index=False)"
   ]
  },
  {
   "cell_type": "code",
   "execution_count": null,
   "metadata": {},
   "outputs": [],
   "source": []
  },
  {
   "cell_type": "code",
   "execution_count": null,
   "metadata": {},
   "outputs": [],
   "source": []
  }
 ],
 "metadata": {
  "kernelspec": {
   "display_name": "Python 3",
   "language": "python",
   "name": "python3"
  },
  "language_info": {
   "codemirror_mode": {
    "name": "ipython",
    "version": 3
   },
   "file_extension": ".py",
   "mimetype": "text/x-python",
   "name": "python",
   "nbconvert_exporter": "python",
   "pygments_lexer": "ipython3",
   "version": "3.5.1"
  }
 },
 "nbformat": 4,
 "nbformat_minor": 2
}
